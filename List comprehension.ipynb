{
 "cells": [
  {
   "cell_type": "code",
   "execution_count": 2,
   "metadata": {},
   "outputs": [],
   "source": [
    "import pandas as pd"
   ]
  },
  {
   "cell_type": "code",
   "execution_count": 4,
   "metadata": {},
   "outputs": [],
   "source": [
    "import numpy as np"
   ]
  },
  {
   "cell_type": "code",
   "execution_count": 38,
   "metadata": {},
   "outputs": [],
   "source": [
    "lista_cantidades = [4,5,1,3]\n",
    "lista_cosas = ['tamales','papas','zanahoria','peras']"
   ]
  },
  {
   "cell_type": "code",
   "execution_count": 40,
   "metadata": {},
   "outputs": [],
   "source": [
    "lista_output = []\n",
    "\n",
    "for i in range(len(lista_cantidades)):\n",
    "    lista_output.append(str(lista_cantidades[i]) + ' '+lista_cosas[i])"
   ]
  },
  {
   "cell_type": "code",
   "execution_count": 41,
   "metadata": {},
   "outputs": [
    {
     "data": {
      "text/plain": [
       "['4 tamales', '5 papas', '1 zanahoria', '3 peras']"
      ]
     },
     "execution_count": 41,
     "metadata": {},
     "output_type": "execute_result"
    }
   ],
   "source": [
    "lista_output"
   ]
  },
  {
   "cell_type": "code",
   "execution_count": 42,
   "metadata": {},
   "outputs": [],
   "source": [
    "lista_output2 = [str(lista_cantidades[i]) + ' '+lista_cosas[i] for i in range(len(lista_cantidades))]"
   ]
  },
  {
   "cell_type": "code",
   "execution_count": 43,
   "metadata": {},
   "outputs": [
    {
     "data": {
      "text/plain": [
       "['4 tamales', '5 papas', '1 zanahoria', '3 peras']"
      ]
     },
     "execution_count": 43,
     "metadata": {},
     "output_type": "execute_result"
    }
   ],
   "source": [
    "lista_output2"
   ]
  },
  {
   "cell_type": "code",
   "execution_count": 49,
   "metadata": {},
   "outputs": [
    {
     "data": {
      "text/plain": [
       "['4 tamales', '5 papas', '1 zanahoria', '3 peras']"
      ]
     },
     "execution_count": 49,
     "metadata": {},
     "output_type": "execute_result"
    }
   ],
   "source": [
    "lista_output3 = ['{} {}'.format(str(lista_cantidades[i]), lista_cosas[i])for i in range(len(lista_cantidades))]\n",
    "lista_output3"
   ]
  },
  {
   "cell_type": "code",
   "execution_count": 46,
   "metadata": {},
   "outputs": [],
   "source": [
    "lista_nombres = ['Manuel','Ernesto','Ramon','Jose']\n",
    "lista_apaterno = ['Bañuelos','Flores','Casas','Juarez']\n",
    "lista_amaterno = ['Dules','Lindas','Grands','Castillo']\n",
    "lista_outputN = [lista_nombres[i] + ' '+ lista_apaterno[i] +' '+ lista_amaterno[i] for i in range(len(lista_nombres))]"
   ]
  },
  {
   "cell_type": "code",
   "execution_count": 47,
   "metadata": {},
   "outputs": [
    {
     "data": {
      "text/plain": [
       "['Manuel Bañuelos Dules',\n",
       " 'Ernesto Flores Lindas',\n",
       " 'Ramon Casas Grands',\n",
       " 'Jose Juarez Castillo']"
      ]
     },
     "execution_count": 47,
     "metadata": {},
     "output_type": "execute_result"
    }
   ],
   "source": [
    "lista_outputN"
   ]
  },
  {
   "cell_type": "code",
   "execution_count": 50,
   "metadata": {},
   "outputs": [
    {
     "data": {
      "text/plain": [
       "['Manuel Bañuelos Dules', 'Ernesto Flores Lindas', 'Jose Juarez Castillo']"
      ]
     },
     "execution_count": 50,
     "metadata": {},
     "output_type": "execute_result"
    }
   ],
   "source": [
    "lista_outputN_if = [lista_nombres[i] + ' '+ lista_apaterno[i] +' '+ lista_amaterno[i] for i in range(len(lista_nombres)) if lista_nombres[i] != 'Ramon']\n",
    "lista_outputN_if"
   ]
  },
  {
   "cell_type": "code",
   "execution_count": null,
   "metadata": {},
   "outputs": [],
   "source": []
  }
 ],
 "metadata": {
  "kernelspec": {
   "display_name": "Python 3",
   "language": "python",
   "name": "python3"
  },
  "language_info": {
   "codemirror_mode": {
    "name": "ipython",
    "version": 3
   },
   "file_extension": ".py",
   "mimetype": "text/x-python",
   "name": "python",
   "nbconvert_exporter": "python",
   "pygments_lexer": "ipython3",
   "version": "3.7.4"
  }
 },
 "nbformat": 4,
 "nbformat_minor": 2
}
