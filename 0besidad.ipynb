{
  "nbformat": 4,
  "nbformat_minor": 0,
  "metadata": {
    "colab": {
      "name": "0besidad.ipynb",
      "provenance": [],
      "include_colab_link": true
    },
    "kernelspec": {
      "name": "python3",
      "display_name": "Python 3"
    },
    "language_info": {
      "name": "python"
    }
  },
  "cells": [
    {
      "cell_type": "markdown",
      "metadata": {
        "id": "view-in-github",
        "colab_type": "text"
      },
      "source": [
        "<a href=\"https://colab.research.google.com/github/ScienceAnalyst/Python/blob/master/0besidad.ipynb\" target=\"_parent\"><img src=\"https://colab.research.google.com/assets/colab-badge.svg\" alt=\"Open In Colab\"/></a>"
      ]
    },
    {
      "cell_type": "markdown",
      "metadata": {
        "id": "oREChPkw9j5z"
      },
      "source": [
        "# Análisis de Datos\n",
        "\n",
        "[Encuesta Nacional de Salud y Nutricion](https://ensanut.insp.mx/)\n",
        "\n",
        "Introducción\n",
        "\n",
        "El archivo de Antropometria contiene la informacion basica de la medicion de cada individuo, por ejemplo talla y peso.\n",
        "\n",
        "El Dataset elegido, se conforma por las siguientes columnas"
      ]
    },
    {
      "cell_type": "code",
      "metadata": {
        "colab": {
          "base_uri": "https://localhost:8080/",
          "height": 309
        },
        "id": "g4dOw54F1mcO",
        "outputId": "9e4eb6f3-bb58-4022-d4b6-a950fd8db9ae"
      },
      "source": [
        "import numpy as np\n",
        "import pandas as pd\n",
        "import seaborn as sns\n",
        "import matplotlib.pyplot as plt\n",
        "from scipy.stats import skew, kurtosis\n",
        "\n",
        "\n",
        "df = pd.read_csv(\"/content/Antropometria.csv\", encoding=\"ISO-8859-1\")\n",
        "\n",
        "df.head()"
      ],
      "execution_count": 27,
      "outputs": [
        {
          "output_type": "execute_result",
          "data": {
            "text/html": [
              "<div>\n",
              "<style scoped>\n",
              "    .dataframe tbody tr th:only-of-type {\n",
              "        vertical-align: middle;\n",
              "    }\n",
              "\n",
              "    .dataframe tbody tr th {\n",
              "        vertical-align: top;\n",
              "    }\n",
              "\n",
              "    .dataframe thead th {\n",
              "        text-align: right;\n",
              "    }\n",
              "</style>\n",
              "<table border=\"1\" class=\"dataframe\">\n",
              "  <thead>\n",
              "    <tr style=\"text-align: right;\">\n",
              "      <th></th>\n",
              "      <th>folio</th>\n",
              "      <th>intp</th>\n",
              "      <th>entidad</th>\n",
              "      <th>desc_ent</th>\n",
              "      <th>munici</th>\n",
              "      <th>desc_mun</th>\n",
              "      <th>locali</th>\n",
              "      <th>desc_loc</th>\n",
              "      <th>ageb</th>\n",
              "      <th>sexo</th>\n",
              "      <th>edad</th>\n",
              "      <th>intsel</th>\n",
              "      <th>acomp</th>\n",
              "      <th>peso</th>\n",
              "      <th>peso2</th>\n",
              "      <th>ropa</th>\n",
              "      <th>rpeso</th>\n",
              "      <th>talla</th>\n",
              "      <th>talla2</th>\n",
              "      <th>rtalla</th>\n",
              "      <th>emb</th>\n",
              "      <th>temb</th>\n",
              "      <th>cintura</th>\n",
              "      <th>cintura2</th>\n",
              "      <th>rcintura</th>\n",
              "      <th>cadera</th>\n",
              "      <th>cadera2</th>\n",
              "      <th>rcadera</th>\n",
              "      <th>amputa</th>\n",
              "      <th>ppeso</th>\n",
              "      <th>panto</th>\n",
              "      <th>panto2</th>\n",
              "      <th>rpanto</th>\n",
              "      <th>rodilla</th>\n",
              "      <th>rodilla2</th>\n",
              "      <th>rrodilla</th>\n",
              "      <th>hemien</th>\n",
              "      <th>hemien2</th>\n",
              "      <th>rhemien</th>\n",
              "      <th>brazo</th>\n",
              "      <th>brazo2</th>\n",
              "      <th>rbrazo</th>\n",
              "      <th>sistol3</th>\n",
              "      <th>diastol3</th>\n",
              "      <th>pulso3</th>\n",
              "      <th>sistol4</th>\n",
              "      <th>diastol4</th>\n",
              "      <th>pulso4</th>\n",
              "      <th>sistol6</th>\n",
              "      <th>diastol6</th>\n",
              "      <th>pulso6</th>\n",
              "      <th>tbrazo</th>\n",
              "      <th>htension</th>\n",
              "      <th>rtension</th>\n",
              "      <th>region_n</th>\n",
              "      <th>area</th>\n",
              "      <th>est_sel</th>\n",
              "      <th>estrato</th>\n",
              "      <th>hogar_pros</th>\n",
              "      <th>ponde_f</th>\n",
              "      <th>upm</th>\n",
              "      <th>c1</th>\n",
              "    </tr>\n",
              "  </thead>\n",
              "  <tbody>\n",
              "    <tr>\n",
              "      <th>0</th>\n",
              "      <td>01001010617639990011</td>\n",
              "      <td>2</td>\n",
              "      <td>1</td>\n",
              "      <td>01 AGUASCALIENTES</td>\n",
              "      <td>1</td>\n",
              "      <td>001 AGUASCALIENTES</td>\n",
              "      <td>106</td>\n",
              "      <td>0106 ARELLANO</td>\n",
              "      <td>1763</td>\n",
              "      <td>2</td>\n",
              "      <td>35</td>\n",
              "      <td>1</td>\n",
              "      <td>1</td>\n",
              "      <td>75.4</td>\n",
              "      <td>75.4</td>\n",
              "      <td>1</td>\n",
              "      <td>1</td>\n",
              "      <td>155.8</td>\n",
              "      <td>155.6</td>\n",
              "      <td>1</td>\n",
              "      <td>4</td>\n",
              "      <td></td>\n",
              "      <td>104</td>\n",
              "      <td>104</td>\n",
              "      <td>1</td>\n",
              "      <td></td>\n",
              "      <td></td>\n",
              "      <td></td>\n",
              "      <td></td>\n",
              "      <td></td>\n",
              "      <td></td>\n",
              "      <td></td>\n",
              "      <td></td>\n",
              "      <td></td>\n",
              "      <td></td>\n",
              "      <td></td>\n",
              "      <td></td>\n",
              "      <td></td>\n",
              "      <td></td>\n",
              "      <td></td>\n",
              "      <td></td>\n",
              "      <td></td>\n",
              "      <td>105</td>\n",
              "      <td>68</td>\n",
              "      <td>60</td>\n",
              "      <td>107</td>\n",
              "      <td>67</td>\n",
              "      <td>63</td>\n",
              "      <td>106</td>\n",
              "      <td>67</td>\n",
              "      <td>64</td>\n",
              "      <td>1</td>\n",
              "      <td>20:00</td>\n",
              "      <td>1</td>\n",
              "      <td>2</td>\n",
              "      <td>2</td>\n",
              "      <td>101</td>\n",
              "      <td>1</td>\n",
              "      <td>1</td>\n",
              "      <td>3084.614391</td>\n",
              "      <td>0100117630000</td>\n",
              "      <td>1</td>\n",
              "    </tr>\n",
              "    <tr>\n",
              "      <th>1</th>\n",
              "      <td>01001010617639990011</td>\n",
              "      <td>3</td>\n",
              "      <td>1</td>\n",
              "      <td>01 AGUASCALIENTES</td>\n",
              "      <td>1</td>\n",
              "      <td>001 AGUASCALIENTES</td>\n",
              "      <td>106</td>\n",
              "      <td>0106 ARELLANO</td>\n",
              "      <td>1763</td>\n",
              "      <td>2</td>\n",
              "      <td>16</td>\n",
              "      <td>2</td>\n",
              "      <td>1</td>\n",
              "      <td>65.15</td>\n",
              "      <td>65.2</td>\n",
              "      <td>1</td>\n",
              "      <td>1</td>\n",
              "      <td>162</td>\n",
              "      <td>162</td>\n",
              "      <td>1</td>\n",
              "      <td>4</td>\n",
              "      <td></td>\n",
              "      <td></td>\n",
              "      <td></td>\n",
              "      <td></td>\n",
              "      <td></td>\n",
              "      <td></td>\n",
              "      <td></td>\n",
              "      <td></td>\n",
              "      <td></td>\n",
              "      <td></td>\n",
              "      <td></td>\n",
              "      <td></td>\n",
              "      <td></td>\n",
              "      <td></td>\n",
              "      <td></td>\n",
              "      <td></td>\n",
              "      <td></td>\n",
              "      <td></td>\n",
              "      <td></td>\n",
              "      <td></td>\n",
              "      <td></td>\n",
              "      <td></td>\n",
              "      <td></td>\n",
              "      <td></td>\n",
              "      <td></td>\n",
              "      <td></td>\n",
              "      <td></td>\n",
              "      <td></td>\n",
              "      <td></td>\n",
              "      <td></td>\n",
              "      <td></td>\n",
              "      <td></td>\n",
              "      <td></td>\n",
              "      <td>2</td>\n",
              "      <td>2</td>\n",
              "      <td>101</td>\n",
              "      <td>1</td>\n",
              "      <td>1</td>\n",
              "      <td>1214.642414</td>\n",
              "      <td>0100117630000</td>\n",
              "      <td>1</td>\n",
              "    </tr>\n",
              "    <tr>\n",
              "      <th>2</th>\n",
              "      <td>01001010617639990011</td>\n",
              "      <td>4</td>\n",
              "      <td>1</td>\n",
              "      <td>01 AGUASCALIENTES</td>\n",
              "      <td>1</td>\n",
              "      <td>001 AGUASCALIENTES</td>\n",
              "      <td>106</td>\n",
              "      <td>0106 ARELLANO</td>\n",
              "      <td>1763</td>\n",
              "      <td>2</td>\n",
              "      <td>2</td>\n",
              "      <td>4</td>\n",
              "      <td>1</td>\n",
              "      <td>10.2</td>\n",
              "      <td>10.2</td>\n",
              "      <td>1</td>\n",
              "      <td>1</td>\n",
              "      <td>92.5</td>\n",
              "      <td>92.5</td>\n",
              "      <td>1</td>\n",
              "      <td></td>\n",
              "      <td></td>\n",
              "      <td></td>\n",
              "      <td></td>\n",
              "      <td></td>\n",
              "      <td></td>\n",
              "      <td></td>\n",
              "      <td></td>\n",
              "      <td></td>\n",
              "      <td></td>\n",
              "      <td></td>\n",
              "      <td></td>\n",
              "      <td></td>\n",
              "      <td></td>\n",
              "      <td></td>\n",
              "      <td></td>\n",
              "      <td></td>\n",
              "      <td></td>\n",
              "      <td></td>\n",
              "      <td></td>\n",
              "      <td></td>\n",
              "      <td></td>\n",
              "      <td></td>\n",
              "      <td></td>\n",
              "      <td></td>\n",
              "      <td></td>\n",
              "      <td></td>\n",
              "      <td></td>\n",
              "      <td></td>\n",
              "      <td></td>\n",
              "      <td></td>\n",
              "      <td></td>\n",
              "      <td></td>\n",
              "      <td></td>\n",
              "      <td>2</td>\n",
              "      <td>2</td>\n",
              "      <td>101</td>\n",
              "      <td>1</td>\n",
              "      <td>1</td>\n",
              "      <td>1024.322509</td>\n",
              "      <td>0100117630000</td>\n",
              "      <td>1</td>\n",
              "    </tr>\n",
              "    <tr>\n",
              "      <th>3</th>\n",
              "      <td>01001010617639990311</td>\n",
              "      <td>1</td>\n",
              "      <td>1</td>\n",
              "      <td>01 AGUASCALIENTES</td>\n",
              "      <td>1</td>\n",
              "      <td>001 AGUASCALIENTES</td>\n",
              "      <td>106</td>\n",
              "      <td>0106 ARELLANO</td>\n",
              "      <td>1763</td>\n",
              "      <td>2</td>\n",
              "      <td>50</td>\n",
              "      <td>1</td>\n",
              "      <td>1</td>\n",
              "      <td>79.3</td>\n",
              "      <td>79.3</td>\n",
              "      <td>1</td>\n",
              "      <td>1</td>\n",
              "      <td>156.8</td>\n",
              "      <td>156.8</td>\n",
              "      <td>1</td>\n",
              "      <td></td>\n",
              "      <td></td>\n",
              "      <td>87.4</td>\n",
              "      <td>87.4</td>\n",
              "      <td>1</td>\n",
              "      <td></td>\n",
              "      <td></td>\n",
              "      <td></td>\n",
              "      <td></td>\n",
              "      <td></td>\n",
              "      <td></td>\n",
              "      <td></td>\n",
              "      <td></td>\n",
              "      <td></td>\n",
              "      <td></td>\n",
              "      <td></td>\n",
              "      <td></td>\n",
              "      <td></td>\n",
              "      <td></td>\n",
              "      <td></td>\n",
              "      <td></td>\n",
              "      <td></td>\n",
              "      <td>156</td>\n",
              "      <td>100</td>\n",
              "      <td>75</td>\n",
              "      <td>141</td>\n",
              "      <td>100</td>\n",
              "      <td>74</td>\n",
              "      <td>138</td>\n",
              "      <td>100</td>\n",
              "      <td>74</td>\n",
              "      <td>1</td>\n",
              "      <td>13:00</td>\n",
              "      <td>1</td>\n",
              "      <td>2</td>\n",
              "      <td>2</td>\n",
              "      <td>101</td>\n",
              "      <td>1</td>\n",
              "      <td>0</td>\n",
              "      <td>1393.452081</td>\n",
              "      <td>0100117630000</td>\n",
              "      <td>1</td>\n",
              "    </tr>\n",
              "    <tr>\n",
              "      <th>4</th>\n",
              "      <td>01001010617639990311</td>\n",
              "      <td>2</td>\n",
              "      <td>1</td>\n",
              "      <td>01 AGUASCALIENTES</td>\n",
              "      <td>1</td>\n",
              "      <td>001 AGUASCALIENTES</td>\n",
              "      <td>106</td>\n",
              "      <td>0106 ARELLANO</td>\n",
              "      <td>1763</td>\n",
              "      <td>2</td>\n",
              "      <td>13</td>\n",
              "      <td>2</td>\n",
              "      <td>1</td>\n",
              "      <td>73.85</td>\n",
              "      <td>73.85</td>\n",
              "      <td>1</td>\n",
              "      <td>1</td>\n",
              "      <td>162.5</td>\n",
              "      <td>162.5</td>\n",
              "      <td>1</td>\n",
              "      <td>4</td>\n",
              "      <td></td>\n",
              "      <td></td>\n",
              "      <td></td>\n",
              "      <td></td>\n",
              "      <td></td>\n",
              "      <td></td>\n",
              "      <td></td>\n",
              "      <td></td>\n",
              "      <td></td>\n",
              "      <td></td>\n",
              "      <td></td>\n",
              "      <td></td>\n",
              "      <td></td>\n",
              "      <td></td>\n",
              "      <td></td>\n",
              "      <td></td>\n",
              "      <td></td>\n",
              "      <td></td>\n",
              "      <td></td>\n",
              "      <td></td>\n",
              "      <td></td>\n",
              "      <td></td>\n",
              "      <td></td>\n",
              "      <td></td>\n",
              "      <td></td>\n",
              "      <td></td>\n",
              "      <td></td>\n",
              "      <td></td>\n",
              "      <td></td>\n",
              "      <td></td>\n",
              "      <td></td>\n",
              "      <td></td>\n",
              "      <td></td>\n",
              "      <td>2</td>\n",
              "      <td>2</td>\n",
              "      <td>101</td>\n",
              "      <td>1</td>\n",
              "      <td>0</td>\n",
              "      <td>1702.060381</td>\n",
              "      <td>0100117630000</td>\n",
              "      <td>1</td>\n",
              "    </tr>\n",
              "  </tbody>\n",
              "</table>\n",
              "</div>"
            ],
            "text/plain": [
              "                  folio  intp  entidad  ...      ponde_f            upm c1\n",
              "0  01001010617639990011     2        1  ...  3084.614391  0100117630000  1\n",
              "1  01001010617639990011     3        1  ...  1214.642414  0100117630000  1\n",
              "2  01001010617639990011     4        1  ...  1024.322509  0100117630000  1\n",
              "3  01001010617639990311     1        1  ...  1393.452081  0100117630000  1\n",
              "4  01001010617639990311     2        1  ...  1702.060381  0100117630000  1\n",
              "\n",
              "[5 rows x 62 columns]"
            ]
          },
          "metadata": {
            "tags": []
          },
          "execution_count": 27
        }
      ]
    },
    {
      "cell_type": "markdown",
      "metadata": {
        "id": "YDDtKbBT_vEs"
      },
      "source": [
        "## Análisis Exploratorio de Datos (EDA)\n",
        "\n",
        "En parte, analizamos los datos con el fin de conocer su \"forma\" (distribución) y con base en esto elegir de mejor manera las variables que intervendrán en nuestro modelo."
      ]
    },
    {
      "cell_type": "code",
      "metadata": {
        "colab": {
          "base_uri": "https://localhost:8080/"
        },
        "id": "uuowrgJu2c0P",
        "outputId": "2f799301-e44c-44ef-e34e-9ba25e15634c"
      },
      "source": [
        "df.info()"
      ],
      "execution_count": 28,
      "outputs": [
        {
          "output_type": "stream",
          "text": [
            "<class 'pandas.core.frame.DataFrame'>\n",
            "RangeIndex: 17224 entries, 0 to 17223\n",
            "Data columns (total 62 columns):\n",
            " #   Column      Non-Null Count  Dtype  \n",
            "---  ------      --------------  -----  \n",
            " 0   folio       17224 non-null  object \n",
            " 1   intp        17224 non-null  int64  \n",
            " 2   entidad     17224 non-null  int64  \n",
            " 3   desc_ent    17224 non-null  object \n",
            " 4   munici      17224 non-null  int64  \n",
            " 5   desc_mun    17224 non-null  object \n",
            " 6   locali      17224 non-null  int64  \n",
            " 7   desc_loc    17224 non-null  object \n",
            " 8   ageb        17224 non-null  object \n",
            " 9   sexo        17224 non-null  int64  \n",
            " 10  edad        17224 non-null  int64  \n",
            " 11  intsel      17224 non-null  int64  \n",
            " 12  acomp       17224 non-null  int64  \n",
            " 13  peso        17224 non-null  object \n",
            " 14  peso2       17224 non-null  object \n",
            " 15  ropa        17224 non-null  object \n",
            " 16  rpeso       17224 non-null  object \n",
            " 17  talla       17224 non-null  object \n",
            " 18  talla2      17224 non-null  object \n",
            " 19  rtalla      17224 non-null  object \n",
            " 20  emb         17224 non-null  object \n",
            " 21  temb        17224 non-null  object \n",
            " 22  cintura     17224 non-null  object \n",
            " 23  cintura2    17224 non-null  object \n",
            " 24  rcintura    17224 non-null  object \n",
            " 25  cadera      17224 non-null  object \n",
            " 26  cadera2     17224 non-null  object \n",
            " 27  rcadera     17224 non-null  object \n",
            " 28  amputa      17224 non-null  object \n",
            " 29  ppeso       17224 non-null  object \n",
            " 30  panto       17224 non-null  object \n",
            " 31  panto2      17224 non-null  object \n",
            " 32  rpanto      17224 non-null  object \n",
            " 33  rodilla     17224 non-null  object \n",
            " 34  rodilla2    17224 non-null  object \n",
            " 35  rrodilla    17224 non-null  object \n",
            " 36  hemien      17224 non-null  object \n",
            " 37  hemien2     17224 non-null  object \n",
            " 38  rhemien     17224 non-null  object \n",
            " 39  brazo       17224 non-null  object \n",
            " 40  brazo2      17224 non-null  object \n",
            " 41  rbrazo      17224 non-null  object \n",
            " 42  sistol3     17224 non-null  object \n",
            " 43  diastol3    17224 non-null  object \n",
            " 44  pulso3      17224 non-null  object \n",
            " 45  sistol4     17224 non-null  object \n",
            " 46  diastol4    17224 non-null  object \n",
            " 47  pulso4      17224 non-null  object \n",
            " 48  sistol6     17224 non-null  object \n",
            " 49  diastol6    17224 non-null  object \n",
            " 50  pulso6      17224 non-null  object \n",
            " 51  tbrazo      17224 non-null  object \n",
            " 52  htension    17224 non-null  object \n",
            " 53  rtension    17224 non-null  object \n",
            " 54  region_n    17224 non-null  int64  \n",
            " 55  area        17224 non-null  int64  \n",
            " 56  est_sel     17224 non-null  int64  \n",
            " 57  estrato     17224 non-null  int64  \n",
            " 58  hogar_pros  17224 non-null  int64  \n",
            " 59  ponde_f     17224 non-null  float64\n",
            " 60  upm         17224 non-null  object \n",
            " 61  c1          17224 non-null  int64  \n",
            "dtypes: float64(1), int64(14), object(47)\n",
            "memory usage: 8.1+ MB\n"
          ],
          "name": "stdout"
        }
      ]
    },
    {
      "cell_type": "markdown",
      "metadata": {
        "id": "H2McJWUZ2ii5"
      },
      "source": [
        "\n",
        "*   Se puede determinar que el Dataset esta bastante limpio\n",
        "\n",
        "\n"
      ]
    },
    {
      "cell_type": "code",
      "metadata": {
        "id": "1otVIWul6Lhi"
      },
      "source": [
        "df['peso'] = pd.to_numeric(df['peso'], errors='coerce')\n",
        "df['talla'] = pd.to_numeric(df['talla'], errors='coerce')"
      ],
      "execution_count": 29,
      "outputs": []
    },
    {
      "cell_type": "code",
      "metadata": {
        "colab": {
          "base_uri": "https://localhost:8080/"
        },
        "id": "oFRkuw8W4R5e",
        "outputId": "d3b1addc-288b-4de0-a8f9-6b42c068dd93"
      },
      "source": [
        "df.info()"
      ],
      "execution_count": 30,
      "outputs": [
        {
          "output_type": "stream",
          "text": [
            "<class 'pandas.core.frame.DataFrame'>\n",
            "RangeIndex: 17224 entries, 0 to 17223\n",
            "Data columns (total 62 columns):\n",
            " #   Column      Non-Null Count  Dtype  \n",
            "---  ------      --------------  -----  \n",
            " 0   folio       17224 non-null  object \n",
            " 1   intp        17224 non-null  int64  \n",
            " 2   entidad     17224 non-null  int64  \n",
            " 3   desc_ent    17224 non-null  object \n",
            " 4   munici      17224 non-null  int64  \n",
            " 5   desc_mun    17224 non-null  object \n",
            " 6   locali      17224 non-null  int64  \n",
            " 7   desc_loc    17224 non-null  object \n",
            " 8   ageb        17224 non-null  object \n",
            " 9   sexo        17224 non-null  int64  \n",
            " 10  edad        17224 non-null  int64  \n",
            " 11  intsel      17224 non-null  int64  \n",
            " 12  acomp       17224 non-null  int64  \n",
            " 13  peso        17133 non-null  float64\n",
            " 14  peso2       17224 non-null  object \n",
            " 15  ropa        17224 non-null  object \n",
            " 16  rpeso       17224 non-null  object \n",
            " 17  talla       17133 non-null  float64\n",
            " 18  talla2      17224 non-null  object \n",
            " 19  rtalla      17224 non-null  object \n",
            " 20  emb         17224 non-null  object \n",
            " 21  temb        17224 non-null  object \n",
            " 22  cintura     17224 non-null  object \n",
            " 23  cintura2    17224 non-null  object \n",
            " 24  rcintura    17224 non-null  object \n",
            " 25  cadera      17224 non-null  object \n",
            " 26  cadera2     17224 non-null  object \n",
            " 27  rcadera     17224 non-null  object \n",
            " 28  amputa      17224 non-null  object \n",
            " 29  ppeso       17224 non-null  object \n",
            " 30  panto       17224 non-null  object \n",
            " 31  panto2      17224 non-null  object \n",
            " 32  rpanto      17224 non-null  object \n",
            " 33  rodilla     17224 non-null  object \n",
            " 34  rodilla2    17224 non-null  object \n",
            " 35  rrodilla    17224 non-null  object \n",
            " 36  hemien      17224 non-null  object \n",
            " 37  hemien2     17224 non-null  object \n",
            " 38  rhemien     17224 non-null  object \n",
            " 39  brazo       17224 non-null  object \n",
            " 40  brazo2      17224 non-null  object \n",
            " 41  rbrazo      17224 non-null  object \n",
            " 42  sistol3     17224 non-null  object \n",
            " 43  diastol3    17224 non-null  object \n",
            " 44  pulso3      17224 non-null  object \n",
            " 45  sistol4     17224 non-null  object \n",
            " 46  diastol4    17224 non-null  object \n",
            " 47  pulso4      17224 non-null  object \n",
            " 48  sistol6     17224 non-null  object \n",
            " 49  diastol6    17224 non-null  object \n",
            " 50  pulso6      17224 non-null  object \n",
            " 51  tbrazo      17224 non-null  object \n",
            " 52  htension    17224 non-null  object \n",
            " 53  rtension    17224 non-null  object \n",
            " 54  region_n    17224 non-null  int64  \n",
            " 55  area        17224 non-null  int64  \n",
            " 56  est_sel     17224 non-null  int64  \n",
            " 57  estrato     17224 non-null  int64  \n",
            " 58  hogar_pros  17224 non-null  int64  \n",
            " 59  ponde_f     17224 non-null  float64\n",
            " 60  upm         17224 non-null  object \n",
            " 61  c1          17224 non-null  int64  \n",
            "dtypes: float64(3), int64(14), object(45)\n",
            "memory usage: 8.1+ MB\n"
          ],
          "name": "stdout"
        }
      ]
    },
    {
      "cell_type": "markdown",
      "metadata": {
        "id": "9FpPpfVo39X6"
      },
      "source": [
        ""
      ]
    },
    {
      "cell_type": "code",
      "metadata": {
        "colab": {
          "base_uri": "https://localhost:8080/",
          "height": 317
        },
        "id": "urm9Sy4Z3p4B",
        "outputId": "144ebf3b-6b5c-40ff-9e41-4fb3b1c9079a"
      },
      "source": [
        "# Analizamos la tendencia central de todos los campos, tomando en cuentra variables numéricas.\n",
        "df.describe()"
      ],
      "execution_count": 31,
      "outputs": [
        {
          "output_type": "execute_result",
          "data": {
            "text/html": [
              "<div>\n",
              "<style scoped>\n",
              "    .dataframe tbody tr th:only-of-type {\n",
              "        vertical-align: middle;\n",
              "    }\n",
              "\n",
              "    .dataframe tbody tr th {\n",
              "        vertical-align: top;\n",
              "    }\n",
              "\n",
              "    .dataframe thead th {\n",
              "        text-align: right;\n",
              "    }\n",
              "</style>\n",
              "<table border=\"1\" class=\"dataframe\">\n",
              "  <thead>\n",
              "    <tr style=\"text-align: right;\">\n",
              "      <th></th>\n",
              "      <th>intp</th>\n",
              "      <th>entidad</th>\n",
              "      <th>munici</th>\n",
              "      <th>locali</th>\n",
              "      <th>sexo</th>\n",
              "      <th>edad</th>\n",
              "      <th>intsel</th>\n",
              "      <th>acomp</th>\n",
              "      <th>peso</th>\n",
              "      <th>talla</th>\n",
              "      <th>region_n</th>\n",
              "      <th>area</th>\n",
              "      <th>est_sel</th>\n",
              "      <th>estrato</th>\n",
              "      <th>hogar_pros</th>\n",
              "      <th>ponde_f</th>\n",
              "      <th>c1</th>\n",
              "    </tr>\n",
              "  </thead>\n",
              "  <tbody>\n",
              "    <tr>\n",
              "      <th>count</th>\n",
              "      <td>17224.000000</td>\n",
              "      <td>17224.000000</td>\n",
              "      <td>17224.000000</td>\n",
              "      <td>17224.000000</td>\n",
              "      <td>17224.000000</td>\n",
              "      <td>17224.000000</td>\n",
              "      <td>17224.000000</td>\n",
              "      <td>17224.000000</td>\n",
              "      <td>17133.000000</td>\n",
              "      <td>17133.000000</td>\n",
              "      <td>17224.000000</td>\n",
              "      <td>17224.000000</td>\n",
              "      <td>17224.000000</td>\n",
              "      <td>17224.000000</td>\n",
              "      <td>17224.000000</td>\n",
              "      <td>17224.000000</td>\n",
              "      <td>17224.0</td>\n",
              "    </tr>\n",
              "    <tr>\n",
              "      <th>mean</th>\n",
              "      <td>3.084998</td>\n",
              "      <td>16.956398</td>\n",
              "      <td>75.071702</td>\n",
              "      <td>120.173247</td>\n",
              "      <td>1.571122</td>\n",
              "      <td>25.492452</td>\n",
              "      <td>1.997445</td>\n",
              "      <td>1.049930</td>\n",
              "      <td>49.299375</td>\n",
              "      <td>138.836468</td>\n",
              "      <td>2.966791</td>\n",
              "      <td>1.809220</td>\n",
              "      <td>1696.895262</td>\n",
              "      <td>1.244601</td>\n",
              "      <td>0.800337</td>\n",
              "      <td>3801.664137</td>\n",
              "      <td>1.0</td>\n",
              "    </tr>\n",
              "    <tr>\n",
              "      <th>std</th>\n",
              "      <td>1.875061</td>\n",
              "      <td>8.182299</td>\n",
              "      <td>106.262231</td>\n",
              "      <td>320.716118</td>\n",
              "      <td>0.494930</td>\n",
              "      <td>21.715391</td>\n",
              "      <td>1.094923</td>\n",
              "      <td>0.269085</td>\n",
              "      <td>26.796850</td>\n",
              "      <td>27.487603</td>\n",
              "      <td>1.188328</td>\n",
              "      <td>0.392928</td>\n",
              "      <td>818.242859</td>\n",
              "      <td>0.540767</td>\n",
              "      <td>0.399759</td>\n",
              "      <td>10866.868126</td>\n",
              "      <td>0.0</td>\n",
              "    </tr>\n",
              "    <tr>\n",
              "      <th>min</th>\n",
              "      <td>1.000000</td>\n",
              "      <td>1.000000</td>\n",
              "      <td>1.000000</td>\n",
              "      <td>1.000000</td>\n",
              "      <td>1.000000</td>\n",
              "      <td>0.000000</td>\n",
              "      <td>1.000000</td>\n",
              "      <td>1.000000</td>\n",
              "      <td>0.000000</td>\n",
              "      <td>0.000000</td>\n",
              "      <td>1.000000</td>\n",
              "      <td>1.000000</td>\n",
              "      <td>101.000000</td>\n",
              "      <td>1.000000</td>\n",
              "      <td>0.000000</td>\n",
              "      <td>6.535559</td>\n",
              "      <td>1.0</td>\n",
              "    </tr>\n",
              "    <tr>\n",
              "      <th>25%</th>\n",
              "      <td>2.000000</td>\n",
              "      <td>11.000000</td>\n",
              "      <td>14.000000</td>\n",
              "      <td>9.000000</td>\n",
              "      <td>1.000000</td>\n",
              "      <td>8.000000</td>\n",
              "      <td>1.000000</td>\n",
              "      <td>1.000000</td>\n",
              "      <td>24.950000</td>\n",
              "      <td>123.600000</td>\n",
              "      <td>2.000000</td>\n",
              "      <td>2.000000</td>\n",
              "      <td>1101.000000</td>\n",
              "      <td>1.000000</td>\n",
              "      <td>1.000000</td>\n",
              "      <td>693.647562</td>\n",
              "      <td>1.0</td>\n",
              "    </tr>\n",
              "    <tr>\n",
              "      <th>50%</th>\n",
              "      <td>3.000000</td>\n",
              "      <td>15.000000</td>\n",
              "      <td>40.000000</td>\n",
              "      <td>32.000000</td>\n",
              "      <td>2.000000</td>\n",
              "      <td>17.000000</td>\n",
              "      <td>2.000000</td>\n",
              "      <td>1.000000</td>\n",
              "      <td>51.900000</td>\n",
              "      <td>147.600000</td>\n",
              "      <td>4.000000</td>\n",
              "      <td>2.000000</td>\n",
              "      <td>1504.000000</td>\n",
              "      <td>1.000000</td>\n",
              "      <td>1.000000</td>\n",
              "      <td>1292.075689</td>\n",
              "      <td>1.0</td>\n",
              "    </tr>\n",
              "    <tr>\n",
              "      <th>75%</th>\n",
              "      <td>4.000000</td>\n",
              "      <td>24.000000</td>\n",
              "      <td>93.000000</td>\n",
              "      <td>104.000000</td>\n",
              "      <td>2.000000</td>\n",
              "      <td>41.000000</td>\n",
              "      <td>3.000000</td>\n",
              "      <td>1.000000</td>\n",
              "      <td>67.200000</td>\n",
              "      <td>157.300000</td>\n",
              "      <td>4.000000</td>\n",
              "      <td>2.000000</td>\n",
              "      <td>2401.000000</td>\n",
              "      <td>1.000000</td>\n",
              "      <td>1.000000</td>\n",
              "      <td>2770.715798</td>\n",
              "      <td>1.0</td>\n",
              "    </tr>\n",
              "    <tr>\n",
              "      <th>max</th>\n",
              "      <td>16.000000</td>\n",
              "      <td>32.000000</td>\n",
              "      <td>566.000000</td>\n",
              "      <td>4457.000000</td>\n",
              "      <td>2.000000</td>\n",
              "      <td>104.000000</td>\n",
              "      <td>4.000000</td>\n",
              "      <td>11.000000</td>\n",
              "      <td>222.220000</td>\n",
              "      <td>222.200000</td>\n",
              "      <td>4.000000</td>\n",
              "      <td>2.000000</td>\n",
              "      <td>3202.000000</td>\n",
              "      <td>3.000000</td>\n",
              "      <td>1.000000</td>\n",
              "      <td>448951.917446</td>\n",
              "      <td>1.0</td>\n",
              "    </tr>\n",
              "  </tbody>\n",
              "</table>\n",
              "</div>"
            ],
            "text/plain": [
              "               intp       entidad  ...        ponde_f       c1\n",
              "count  17224.000000  17224.000000  ...   17224.000000  17224.0\n",
              "mean       3.084998     16.956398  ...    3801.664137      1.0\n",
              "std        1.875061      8.182299  ...   10866.868126      0.0\n",
              "min        1.000000      1.000000  ...       6.535559      1.0\n",
              "25%        2.000000     11.000000  ...     693.647562      1.0\n",
              "50%        3.000000     15.000000  ...    1292.075689      1.0\n",
              "75%        4.000000     24.000000  ...    2770.715798      1.0\n",
              "max       16.000000     32.000000  ...  448951.917446      1.0\n",
              "\n",
              "[8 rows x 17 columns]"
            ]
          },
          "metadata": {
            "tags": []
          },
          "execution_count": 31
        }
      ]
    },
    {
      "cell_type": "code",
      "metadata": {
        "id": "26Duz3oq63sP",
        "colab": {
          "base_uri": "https://localhost:8080/"
        },
        "outputId": "cfa6bc04-3447-40aa-ac05-2037646111fc"
      },
      "source": [
        "p = df['peso']\n",
        "t = df['talla']\n",
        "\n",
        "print(\"Promedio peso: \" + str(p.mean()))\n",
        "print(\"Mediana peso: \" + str(p.median()))\n",
        "print(\"Rango peso: \" + str(p.max() - p.min()))\n",
        "print(\"Desviación Estándar peso: \" + str(p.std()))\n",
        "\n",
        "print(\"\\nPromedio talla: \" + str(t.mean()))\n",
        "print(\"Mediana talla: \" + str(t.median()))\n",
        "print(\"Rango talla: \" + str(t.max() - t.min()))\n",
        "print(\"Desviación Estándar talla: \" + str(t.std()))"
      ],
      "execution_count": 32,
      "outputs": [
        {
          "output_type": "stream",
          "text": [
            "Promedio peso: 49.2993754742307\n",
            "Mediana peso: 51.9\n",
            "Rango peso: 222.22\n",
            "Desviación Estándar peso: 26.796849993688948\n",
            "\n",
            "Promedio talla: 138.83646763555825\n",
            "Mediana talla: 147.6\n",
            "Rango talla: 222.2\n",
            "Desviación Estándar talla: 27.48760321160745\n"
          ],
          "name": "stdout"
        }
      ]
    },
    {
      "cell_type": "markdown",
      "metadata": {
        "id": "coeF-fu8DjKa"
      },
      "source": [
        "##esto nos ayuda a visualizar las mediciones de Promedios Rangos"
      ]
    },
    {
      "cell_type": "code",
      "metadata": {
        "colab": {
          "base_uri": "https://localhost:8080/"
        },
        "id": "P7xr_gSRDxYo",
        "outputId": "fa7f2aaf-de16-4bf5-d8a6-e19d4f4dde82"
      },
      "source": [
        "total_count = len(p)\n",
        "mean = p.mean()\n",
        "std = p.std()\n",
        "\n",
        "bottom = p >= (mean - std) # Todos los que sean mayores a 1 std\n",
        "top = p <= (mean + std) # Todos los que sean menores a 1 std\n",
        "filtro = df[bottom & top] # Aplicamos los dos filtros,sólo nos quedan los cercanos al promedio\n",
        "pt = filtro.shape[0] * 100 / total_count # Sacamos el porcentaje de datos\n",
        "print(\"Porcentaje de peso \" + str(pt) + \"%\")\n",
        "\n",
        "total_count = len(t)\n",
        "mean = t.mean()\n",
        "std = t.std()\n",
        "\n",
        "bottom = t >= (mean - std) # Todos los que sean mayores a 1 std\n",
        "top = t <= (mean + std) # Todos los que sean menores a 1 std\n",
        "filtro = df[bottom & top] # Aplicamos los dos filtros,sólo nos quedan los cercanos al promedio\n",
        "pt = filtro.shape[0] * 100 / total_count # Sacamos el porcentaje de datos\n",
        "print(\"Porcentaje talla \" + str(pt) + \"%\")"
      ],
      "execution_count": 33,
      "outputs": [
        {
          "output_type": "stream",
          "text": [
            "Porcentaje de peso 63.89921040408732%\n",
            "Porcentaje talla 73.1072921504877%\n"
          ],
          "name": "stdout"
        }
      ]
    },
    {
      "cell_type": "markdown",
      "metadata": {
        "id": "Ay8kef-NEXAx"
      },
      "source": [
        "Vemos que el 63% de los datos del peso se encuentran cerca del promedio lo cual da pie a entender que tenemos un 40% aproxidamente de valores posiblemente atípicos. Mientras que en talla, tenemos un 73% de datos cerca del promedio, lo cual indica la presencia de pocos valores atípicos.\n",
        "\n",
        "Para analizar de otra forma la distribución de los datos usamos la asimetría (skweness) y la curtosis (kurtosis)."
      ]
    },
    {
      "cell_type": "code",
      "metadata": {
        "colab": {
          "base_uri": "https://localhost:8080/"
        },
        "id": "8vIwNK2KEmzk",
        "outputId": "1a28b07c-e328-4966-80f8-9ace01d2eae7"
      },
      "source": [
        "print(f'Curtosis peso: {kurtosis(p)}')\n",
        "print(f'Asimetría peso: {skew(p)}')\n",
        "\n",
        "print(f'Curtosis talla: {kurtosis(t)}')\n",
        "print(f'Asimetría talla: {skew(t)}')"
      ],
      "execution_count": 34,
      "outputs": [
        {
          "output_type": "stream",
          "text": [
            "Curtosis peso: nan\n",
            "Asimetría peso: nan\n",
            "Curtosis talla: nan\n",
            "Asimetría talla: nan\n"
          ],
          "name": "stdout"
        }
      ]
    },
    {
      "cell_type": "markdown",
      "metadata": {
        "id": "3exHH7aXFC0O"
      },
      "source": [
        "###Revisar el problema de los kurtosis"
      ]
    },
    {
      "cell_type": "markdown",
      "metadata": {
        "id": "DA05alPoFQu9"
      },
      "source": [
        "##Visualizacion de datos trabajar mas para dar las graficas deseadas"
      ]
    },
    {
      "cell_type": "code",
      "metadata": {
        "colab": {
          "base_uri": "https://localhost:8080/",
          "height": 721
        },
        "id": "o3nY16D-FJK_",
        "outputId": "f15d1911-4da7-4b28-b33e-6332f4ea274e"
      },
      "source": [
        "# Histograma de peso y talla\n",
        "sns.displot(p, kde=False);\n",
        "sns.displot(t, kde=False);"
      ],
      "execution_count": 35,
      "outputs": [
        {
          "output_type": "display_data",
          "data": {
            "image/png": "[encoded data removed]",
            "text/plain": [
              "<Figure size 360x360 with 1 Axes>"
            ]
          },
          "metadata": {
            "tags": [],
            "needs_background": "light"
          }
        },
        {
          "output_type": "display_data",
          "data": {
            "image/png": "[encoded data removed]",
            "text/plain": [
              "<Figure size 360x360 with 1 Axes>"
            ]
          },
          "metadata": {
            "tags": [],
            "needs_background": "light"
          }
        }
      ]
    },
    {
      "cell_type": "code",
      "metadata": {
        "colab": {
          "base_uri": "https://localhost:8080/",
          "height": 550
        },
        "id": "amK2xkx0Fotv",
        "outputId": "a8692a76-c339-453a-daab-f7496dc6e12c"
      },
      "source": [
        "JAL = df.loc[(df['desc_ent']==\"14 JALISCO\")&(df['edad']>17)]\n",
        "JAL['IMC']=p/((t*t)/10000)\n",
        "\n",
        "plt.figure(figsize=(7,7))\n",
        "#plt.scatter(JAL['edad'], JAL['IMC'], s=100)\n",
        "#plt.bar(JAL['edad'], JAL['IMC'])\n",
        "plt.hist(JAL['IMC'], bins=[18.5,25], rwidth=0.95, color='g')\n",
        "plt.hist(JAL['IMC'], bins=[25,30], rwidth=0.95, color='r')\n",
        "plt.hist(JAL['IMC'], bins=[30,40], rwidth=0.95, color='b')\n",
        "plt.hist(JAL['IMC'], bins=[40,50], rwidth=0.95, color='black')\n",
        "plt.show()"
      ],
      "execution_count": 36,
      "outputs": [
        {
          "output_type": "stream",
          "text": [
            "/usr/local/lib/python3.7/dist-packages/ipykernel_launcher.py:2: SettingWithCopyWarning: \n",
            "A value is trying to be set on a copy of a slice from a DataFrame.\n",
            "Try using .loc[row_indexer,col_indexer] = value instead\n",
            "\n",
            "See the caveats in the documentation: https://pandas.pydata.org/pandas-docs/stable/user_guide/indexing.html#returning-a-view-versus-a-copy\n",
            "  \n"
          ],
          "name": "stderr"
        },
        {
          "output_type": "display_data",
          "data": {
            "image/png": "[encoded data removed]",
            "text/plain": [
              "<Figure size 504x504 with 1 Axes>"
            ]
          },
          "metadata": {
            "tags": [],
            "needs_background": "light"
          }
        }
      ]
    },
    {
      "cell_type": "markdown",
      "metadata": {
        "id": "hhQp4jjBFtYC"
      },
      "source": [
        "estados y genero"
      ]
    },
    {
      "cell_type": "markdown",
      "metadata": {
        "id": "x3oodpXcF71k"
      },
      "source": [
        "Valores Atipicos"
      ]
    },
    {
      "cell_type": "markdown",
      "metadata": {
        "id": "B4dzotUSF-t8"
      },
      "source": [
        "##Análisis de Correlación\n",
        "Para analizar la correlación entre todas las variables (numéricas) y el rating que se le dio al cereal, usaremos tres técnicas:\n",
        "\n",
        "Gráfica de dispersión\n",
        "Matriz de correlación\n",
        "Mapa de calor."
      ]
    },
    {
      "cell_type": "code",
      "metadata": {
        "colab": {
          "base_uri": "https://localhost:8080/"
        },
        "id": "sNzbnZIrGIie",
        "outputId": "04aa6f12-c4b9-48e8-f30e-f9797154a159"
      },
      "source": [
        "# Buscamos variables no categóricas.\n",
        "df.columns"
      ],
      "execution_count": 37,
      "outputs": [
        {
          "output_type": "execute_result",
          "data": {
            "text/plain": [
              "Index(['folio', 'intp', 'entidad', 'desc_ent', 'munici', 'desc_mun', 'locali',\n",
              "       'desc_loc', 'ageb', 'sexo', 'edad', 'intsel', 'acomp', 'peso', 'peso2',\n",
              "       'ropa', 'rpeso', 'talla', 'talla2', 'rtalla', 'emb', 'temb', 'cintura',\n",
              "       'cintura2', 'rcintura', 'cadera', 'cadera2', 'rcadera', 'amputa',\n",
              "       'ppeso', 'panto', 'panto2', 'rpanto', 'rodilla', 'rodilla2', 'rrodilla',\n",
              "       'hemien', 'hemien2', 'rhemien', 'brazo', 'brazo2', 'rbrazo', 'sistol3',\n",
              "       'diastol3', 'pulso3', 'sistol4', 'diastol4', 'pulso4', 'sistol6',\n",
              "       'diastol6', 'pulso6', 'tbrazo', 'htension', 'rtension', 'region_n',\n",
              "       'area', 'est_sel', 'estrato', 'hogar_pros', 'ponde_f', 'upm', 'c1'],\n",
              "      dtype='object')"
            ]
          },
          "metadata": {
            "tags": []
          },
          "execution_count": 37
        }
      ]
    },
    {
      "cell_type": "code",
      "metadata": {
        "colab": {
          "base_uri": "https://localhost:8080/",
          "height": 204
        },
        "id": "z3EofGPDGKC2",
        "outputId": "22a1d3f2-e27d-4609-9e48-1c47ffc98840"
      },
      "source": [
        "numericas = df[['entidad', 'sexo', 'talla', 'peso']]\n",
        "numericas.head()"
      ],
      "execution_count": 38,
      "outputs": [
        {
          "output_type": "execute_result",
          "data": {
            "text/html": [
              "<div>\n",
              "<style scoped>\n",
              "    .dataframe tbody tr th:only-of-type {\n",
              "        vertical-align: middle;\n",
              "    }\n",
              "\n",
              "    .dataframe tbody tr th {\n",
              "        vertical-align: top;\n",
              "    }\n",
              "\n",
              "    .dataframe thead th {\n",
              "        text-align: right;\n",
              "    }\n",
              "</style>\n",
              "<table border=\"1\" class=\"dataframe\">\n",
              "  <thead>\n",
              "    <tr style=\"text-align: right;\">\n",
              "      <th></th>\n",
              "      <th>entidad</th>\n",
              "      <th>sexo</th>\n",
              "      <th>talla</th>\n",
              "      <th>peso</th>\n",
              "    </tr>\n",
              "  </thead>\n",
              "  <tbody>\n",
              "    <tr>\n",
              "      <th>0</th>\n",
              "      <td>1</td>\n",
              "      <td>2</td>\n",
              "      <td>155.8</td>\n",
              "      <td>75.40</td>\n",
              "    </tr>\n",
              "    <tr>\n",
              "      <th>1</th>\n",
              "      <td>1</td>\n",
              "      <td>2</td>\n",
              "      <td>162.0</td>\n",
              "      <td>65.15</td>\n",
              "    </tr>\n",
              "    <tr>\n",
              "      <th>2</th>\n",
              "      <td>1</td>\n",
              "      <td>2</td>\n",
              "      <td>92.5</td>\n",
              "      <td>10.20</td>\n",
              "    </tr>\n",
              "    <tr>\n",
              "      <th>3</th>\n",
              "      <td>1</td>\n",
              "      <td>2</td>\n",
              "      <td>156.8</td>\n",
              "      <td>79.30</td>\n",
              "    </tr>\n",
              "    <tr>\n",
              "      <th>4</th>\n",
              "      <td>1</td>\n",
              "      <td>2</td>\n",
              "      <td>162.5</td>\n",
              "      <td>73.85</td>\n",
              "    </tr>\n",
              "  </tbody>\n",
              "</table>\n",
              "</div>"
            ],
            "text/plain": [
              "   entidad  sexo  talla   peso\n",
              "0        1     2  155.8  75.40\n",
              "1        1     2  162.0  65.15\n",
              "2        1     2   92.5  10.20\n",
              "3        1     2  156.8  79.30\n",
              "4        1     2  162.5  73.85"
            ]
          },
          "metadata": {
            "tags": []
          },
          "execution_count": 38
        }
      ]
    },
    {
      "cell_type": "code",
      "metadata": {
        "colab": {
          "base_uri": "https://localhost:8080/",
          "height": 726
        },
        "id": "NfOW_VmrG1XG",
        "outputId": "ba0906ee-171b-40df-d9c7-c9637785791f"
      },
      "source": [
        "sns.pairplot(numericas);"
      ],
      "execution_count": 39,
      "outputs": [
        {
          "output_type": "display_data",
          "data": {
            "image/png": "[encoded data removed]",
            "text/plain": [
              "<Figure size 720x720 with 20 Axes>"
            ]
          },
          "metadata": {
            "tags": [],
            "needs_background": "light"
          }
        }
      ]
    },
    {
      "cell_type": "code",
      "metadata": {
        "colab": {
          "base_uri": "https://localhost:8080/",
          "height": 173
        },
        "id": "Fgy4o7iKG7AS",
        "outputId": "80ee69e3-171a-429b-93f9-1743942d04e4"
      },
      "source": [
        "numericas.corr()"
      ],
      "execution_count": 40,
      "outputs": [
        {
          "output_type": "execute_result",
          "data": {
            "text/html": [
              "<div>\n",
              "<style scoped>\n",
              "    .dataframe tbody tr th:only-of-type {\n",
              "        vertical-align: middle;\n",
              "    }\n",
              "\n",
              "    .dataframe tbody tr th {\n",
              "        vertical-align: top;\n",
              "    }\n",
              "\n",
              "    .dataframe thead th {\n",
              "        text-align: right;\n",
              "    }\n",
              "</style>\n",
              "<table border=\"1\" class=\"dataframe\">\n",
              "  <thead>\n",
              "    <tr style=\"text-align: right;\">\n",
              "      <th></th>\n",
              "      <th>entidad</th>\n",
              "      <th>sexo</th>\n",
              "      <th>talla</th>\n",
              "      <th>peso</th>\n",
              "    </tr>\n",
              "  </thead>\n",
              "  <tbody>\n",
              "    <tr>\n",
              "      <th>entidad</th>\n",
              "      <td>1.000000</td>\n",
              "      <td>-0.000259</td>\n",
              "      <td>0.027992</td>\n",
              "      <td>0.035603</td>\n",
              "    </tr>\n",
              "    <tr>\n",
              "      <th>sexo</th>\n",
              "      <td>-0.000259</td>\n",
              "      <td>1.000000</td>\n",
              "      <td>-0.027043</td>\n",
              "      <td>0.042336</td>\n",
              "    </tr>\n",
              "    <tr>\n",
              "      <th>talla</th>\n",
              "      <td>0.027992</td>\n",
              "      <td>-0.027043</td>\n",
              "      <td>1.000000</td>\n",
              "      <td>0.831723</td>\n",
              "    </tr>\n",
              "    <tr>\n",
              "      <th>peso</th>\n",
              "      <td>0.035603</td>\n",
              "      <td>0.042336</td>\n",
              "      <td>0.831723</td>\n",
              "      <td>1.000000</td>\n",
              "    </tr>\n",
              "  </tbody>\n",
              "</table>\n",
              "</div>"
            ],
            "text/plain": [
              "          entidad      sexo     talla      peso\n",
              "entidad  1.000000 -0.000259  0.027992  0.035603\n",
              "sexo    -0.000259  1.000000 -0.027043  0.042336\n",
              "talla    0.027992 -0.027043  1.000000  0.831723\n",
              "peso     0.035603  0.042336  0.831723  1.000000"
            ]
          },
          "metadata": {
            "tags": []
          },
          "execution_count": 40
        }
      ]
    },
    {
      "cell_type": "code",
      "metadata": {
        "colab": {
          "base_uri": "https://localhost:8080/",
          "height": 378
        },
        "id": "bLfHZmWbHP4y",
        "outputId": "78fc446c-6037-48fc-f042-3212d11abca7"
      },
      "source": [
        "plt.figure(figsize=(8, 6))\n",
        "sns.heatmap(numericas.corr(), vmin=-1, vmax=1, annot=True, cmap=\"YlGnBu\", linewidths=.5);"
      ],
      "execution_count": 41,
      "outputs": [
        {
          "output_type": "display_data",
          "data": {
            "image/png": "[encoded data removed]",
            "text/plain": [
              "<Figure size 576x432 with 2 Axes>"
            ]
          },
          "metadata": {
            "tags": [],
            "needs_background": "light"
          }
        }
      ]
    }
  ]
}